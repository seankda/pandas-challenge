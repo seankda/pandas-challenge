{
 "cells": [
  {
   "cell_type": "markdown",
   "metadata": {},
   "source": [
    "### Note\n",
    "* Instructions have been included for each segment. You do not have to follow them exactly, but they are included to help you think through the steps."
   ]
  },
  {
   "cell_type": "code",
   "execution_count": null,
   "metadata": {},
   "outputs": [],
   "source": [
    "# Dependencies and Setup\n",
    "import pandas as pd\n",
    "\n",
    "# File to Load (Remember to Change These)\n",
    "file_to_load = \"Resources/purchase_data.csv\"\n",
    "\n",
    "# Read Purchasing File and store into Pandas data frame\n",
    "pymoliPurchaseData = pd.read_csv(file_to_load)\n",
    "pymoliPurchaseData.head()"
   ]
  },
  {
   "cell_type": "markdown",
   "metadata": {},
   "source": [
    "## Player Count"
   ]
  },
  {
   "cell_type": "markdown",
   "metadata": {},
   "source": [
    "* Display the total number of players\n"
   ]
  },
  {
   "cell_type": "code",
   "execution_count": null,
   "metadata": {},
   "outputs": [],
   "source": [
    "pymoliTotalPlayers = pymoliPurchaseData[\"SN\"].nunique()\n",
    "\n",
    "pymoliDisplayTotal = pd.DataFrame({\"Total Players\": [pymoliTotalPlayers]})\n",
    "pymoliDisplayTotal"
   ]
  },
  {
   "cell_type": "markdown",
   "metadata": {},
   "source": [
    "## Purchasing Analysis (Total)"
   ]
  },
  {
   "cell_type": "markdown",
   "metadata": {},
   "source": [
    "* Run basic calculations to obtain number of unique items, average price, etc.\n",
    "\n",
    "\n",
    "* Create a summary data frame to hold the results\n",
    "\n",
    "\n",
    "* Optional: give the displayed data cleaner formatting\n",
    "\n",
    "\n",
    "* Display the summary data frame\n"
   ]
  },
  {
   "cell_type": "code",
   "execution_count": null,
   "metadata": {
    "scrolled": true
   },
   "outputs": [],
   "source": [
    "# Calculate number of unique items\n",
    "uniqueItems = pymoliPurchaseData[\"Item ID\"].nunique()\n",
    "\n",
    "# Calculate average price\n",
    "averagePrice = pymoliPurchaseData[\"Price\"].mean()\n",
    "\n",
    "# Count number of purchases\n",
    "numOfPurchases = pymoliPurchaseData[\"Item ID\"].count()\n",
    "\n",
    "# Sum price to get revenue\n",
    "totalRev = pymoliPurchaseData[\"Price\"].sum()\n",
    "\n",
    "# Form the DataFrame\n",
    "pymoliAnalysis = pd.DataFrame({\"Number of Unique Items\": [uniqueItems],\n",
    "                              \"Average Price\": [averagePrice],\n",
    "                               \"Number of Purchases\": [numOfPurchases],\n",
    "                               \"Total Revenue\": [totalRev]})\n",
    "\n",
    "# DF Formatting\n",
    "pymoliAnalysis[\"Average Price\"] = pymoliAnalysis[\"Average Price\"].map(\"${:.2f}\".format)\n",
    "pymoliAnalysis[\"Total Revenue\"] = pymoliAnalysis[\"Total Revenue\"].map(\"${:.2f}\".format)\n",
    "\n",
    "# Table didn't alphabetize itself but just in case it does\n",
    "pymoliAnalysis = pymoliAnalysis[[\"Number of Unique Items\", \"Average Price\", \"Number of Purchases\", \"Total Revenue\"]]\n",
    "\n",
    "pymoliAnalysis"
   ]
  },
  {
   "cell_type": "markdown",
   "metadata": {},
   "source": [
    "## Gender Demographics"
   ]
  },
  {
   "cell_type": "markdown",
   "metadata": {},
   "source": [
    "* Percentage and Count of Male Players\n",
    "\n",
    "\n",
    "* Percentage and Count of Female Players\n",
    "\n",
    "\n",
    "* Percentage and Count of Other / Non-Disclosed\n",
    "\n",
    "\n"
   ]
  },
  {
   "cell_type": "markdown",
   "metadata": {},
   "source": [
    "# Observable trend: The majority of the playerbase are males! Wow!"
   ]
  },
  {
   "cell_type": "code",
   "execution_count": null,
   "metadata": {},
   "outputs": [],
   "source": [
    "# Isolate SN and Gender data\n",
    "pymoliGender = pymoliPurchaseData[[\"SN\",\"Gender\"]]\n",
    "\n",
    "# Keep unique genders\n",
    "pymoliGender = pymoliGender.drop_duplicates()\n",
    "\n",
    "# Get counts per unique gender\n",
    "pymoliCount = pymoliGender[\"Gender\"].value_counts()\n",
    "\n",
    "# List and format values for the \"Total Count\" and \"Percentage of Players\"\n",
    "pymoliTotalCount = [pymoliCount[0],pymoliCount[1],pymoliCount[2]]\n",
    "pymoliPercent = [round((pymoliCount[0]/pymoliTotalPlayers)*100,2),round((pymoliCount[1]/pymoliTotalPlayers)*100,2),\n",
    "                 round((pymoliCount[2]/pymoliTotalPlayers)*100,2)]\n",
    "\n",
    "# Create DataFrame\n",
    "pymoliGenDemo = pd.DataFrame({\"Total Count\": pymoliTotalCount,\"Percentage of Players\": pymoliPercent})\n",
    "pymoliGenDemo.index = ([\"Male\", \"Female\", \"Other / Non-Disclosed\"])\n",
    "\n",
    "\n",
    "# DF Formatting\n",
    "pymoliGenDemo[\"Percentage of Players\"] = pymoliGenDemo[\"Percentage of Players\"].map(\"{:.2f}%\".format)\n",
    "\n",
    "# Reorder columns just in case. It doesn't appear to alphabetize the columns when we form our pd.DataFrame\n",
    "pymoliGenDemo = pymoliGenDemo[[\"Total Count\",\"Percentage of Players\"]]\n",
    "\n",
    "pymoliGenDemo"
   ]
  },
  {
   "cell_type": "markdown",
   "metadata": {},
   "source": [
    "\n",
    "## Purchasing Analysis (Gender)"
   ]
  },
  {
   "cell_type": "markdown",
   "metadata": {},
   "source": [
    "* Run basic calculations to obtain purchase count, avg. purchase price, avg. purchase total per person etc. by gender\n",
    "\n",
    "\n",
    "\n",
    "\n",
    "* Create a summary data frame to hold the results\n",
    "\n",
    "\n",
    "* Optional: give the displayed data cleaner formatting\n",
    "\n",
    "\n",
    "* Display the summary data frame"
   ]
  },
  {
   "cell_type": "markdown",
   "metadata": {},
   "source": [
    "# Observable trend: Unsurprisingly, due to males being the majority of the player base, as a group they have spent the most."
   ]
  },
  {
   "cell_type": "code",
   "execution_count": null,
   "metadata": {},
   "outputs": [],
   "source": [
    "# Group by Gender\n",
    "pymoliGenGroup = pymoliPurchaseData.groupby([\"Gender\"])\n",
    "\n",
    "# Isolate and assign columns\n",
    "pymoliGenderPurchases = pymoliGenGroup[\"SN\"].count()\n",
    "pymoliGenderAvg = pymoliGenGroup[\"Price\"].mean()\n",
    "pymoliGenderTotal = pymoliGenGroup[\"Price\"].sum()\n",
    "\n",
    "# Drop duplicates\n",
    "pymoliDuplicate = pymoliPurchaseData.drop_duplicates(subset='SN', keep=\"first\")\n",
    "pymoliDupGender = pymoliDuplicate.groupby([\"Gender\"])\n",
    "\n",
    "# Calculate average total per person\n",
    "pymoliGenderAvgPerPerson = (pymoliGenGroup[\"Price\"].sum() / pymoliDupGender[\"SN\"].count())\n",
    "\n",
    "# Create DataFrame\n",
    "pymoliGenderAnalysis = pd.DataFrame({\"Purchase Count\":pymoliGenderPurchases, \n",
    "                                   \"Average Purchase Price\":pymoliGenderAvg,\n",
    "                                   \"Total Purchase Value\":pymoliGenderTotal,\n",
    "                                    \"Avg Total per Person\": pymoliGenderAvgPerPerson})\n",
    "\n",
    "# DF Formatting\n",
    "pymoliGenderAnalysis[\"Average Purchase Price\"] = pymoliGenderAnalysis[\"Average Purchase Price\"].map(\"${:.2f}\".format)\n",
    "pymoliGenderAnalysis[\"Total Purchase Value\"] = pymoliGenderAnalysis[\"Total Purchase Value\"].map(\"${:.2f}\".format)\n",
    "pymoliGenderAnalysis[\"Avg Total per Person\"] = pymoliGenderAnalysis[\"Avg Total per Person\"].map(\"${:.2f}\".format)\n",
    "\n",
    "# Reorder columns just in case. It doesn't appear to alphabetize the columns when we form our pd.DataFrame\n",
    "pymoliGenderAnalysis = pymoliGenderAnalysis[[\"Purchase Count\",\"Average Purchase Price\",\"Total Purchase Value\",\n",
    "                                             \"Avg Total per Person\"]]\n",
    "\n",
    "# Display Table\n",
    "pymoliGenderAnalysis"
   ]
  },
  {
   "cell_type": "markdown",
   "metadata": {},
   "source": [
    "## Age Demographics"
   ]
  },
  {
   "cell_type": "markdown",
   "metadata": {},
   "source": [
    "* Establish bins for ages\n",
    "\n",
    "\n",
    "* Categorize the existing players using the age bins. Hint: use pd.cut()\n",
    "\n",
    "\n",
    "* Calculate the numbers and percentages by age group\n",
    "\n",
    "\n",
    "* Create a summary data frame to hold the results\n",
    "\n",
    "\n",
    "* Optional: round the percentage column to two decimal points\n",
    "\n",
    "\n",
    "* Display Age Demographics Table\n"
   ]
  },
  {
   "cell_type": "markdown",
   "metadata": {},
   "source": [
    "# Observable trend: It's interesting to see that from ages <10 to 20-24 ramp up but from 24 on, it gradually decreases! Holy moly!"
   ]
  },
  {
   "cell_type": "code",
   "execution_count": null,
   "metadata": {},
   "outputs": [],
   "source": [
    "# Create bins\n",
    "bins = [0,9,12,17,22,26,32,36,45]\n",
    "ageRanges = [\"<10\",\"10-14\",\"15-19\",\"20-24\",\"25-29\",\"30-34\",\"35-39\",\"40+\"]\n",
    "\n",
    "# Apply bins and labels\n",
    "pymoliPurchaseData[\"Age Range\"] = pd.cut(pymoliPurchaseData[\"Age\"], bins, labels=ageRanges)\n",
    "\n",
    "pymoliAgeGroupCount = pymoliPurchaseData.groupby(\"Age Range\")[\"Item Name\"].count()\n",
    "\n",
    "\n",
    "# Use the length of the list, which is 780\n",
    "pymoliAgeGroupPercent = round(pymoliPurchaseData[\"Age Range\"].value_counts()/780,2)\n",
    "\n",
    "# Create DataFrame\n",
    "pymoliAgeDemo = pd.DataFrame({\"Total Count\":pymoliAgeGroupCount,\n",
    "                            \"Percentage of Players\":pymoliAgeGroupPercent})\n",
    "\n",
    "# DF Formatting\n",
    "pymoliAgeDemo[\"Percentage of Players\"] = pymoliAgeDemo[\"Percentage of Players\"].map(\"{:.2%}\".format)\n",
    "\n",
    "# Reorder columns just in case. It doesn't appear to alphabetize the columns when we form our pd.DataFrame\n",
    "pymoliAgeDemo = pymoliAgeDemo [[\"Total Count\",\"Percentage of Players\"]]\n",
    "\n",
    "# Display table\n",
    "pymoliAgeDemo"
   ]
  },
  {
   "cell_type": "markdown",
   "metadata": {},
   "source": [
    "## Purchasing Analysis (Age)"
   ]
  },
  {
   "cell_type": "markdown",
   "metadata": {},
   "source": [
    "* Bin the purchase_data data frame by age\n",
    "\n",
    "\n",
    "* Run basic calculations to obtain purchase count, avg. purchase price, avg. purchase total per person etc. in the table below\n",
    "\n",
    "\n",
    "* Create a summary data frame to hold the results\n",
    "\n",
    "\n",
    "* Optional: give the displayed data cleaner formatting\n",
    "\n",
    "\n",
    "* Display the summary data frame"
   ]
  },
  {
   "cell_type": "code",
   "execution_count": null,
   "metadata": {},
   "outputs": [],
   "source": [
    "# Grouping by Demo from Age Range\n",
    "pymoliGroupedDemo = pymoliPurchaseData.groupby (['Age Range'])\n",
    "\n",
    "# Purchase Count\n",
    "pymoliAgePurchaseCount = pymoliGroupedDemo[\"SN\"].count()\n",
    "\n",
    "# Average Purchase Price\n",
    "pymoliAgeAvgPrice = pymoliGroupedDemo[\"Price\"].mean()\n",
    "\n",
    "# Total Purchase Value\n",
    "pymoliTotalPurchase = pymoliGroupedDemo[\"Price\"].sum()\n",
    "\n",
    "# Avg Total Purchase per Person\n",
    "pymoliTotalPerPerson = pymoliTotalPurchase / pymoliAgeGroupCount\n",
    "\n",
    "#Create new dataframe using both calculations\n",
    "pymoliPurchasingAnalysis = pd.DataFrame({\"Purchase Count\":pymoliAgePurchaseCount,\n",
    "                                         \"Average Purchase Price\":pymoliAgeAvgPrice,\n",
    "                                         \"Total Purchase Value\":pymoliTotalPurchase,\n",
    "                                         \"Avg Total Purchase per Person\":pymoliTotalPerPerson})\n",
    "\n",
    "# Reorder columns just in case. It doesn't appear to alphabetize the columns when we form our pd.DataFrame\n",
    "pymoliPurchasingAnalysis = pymoliPurchasingAnalysis[[\"Purchase Count\",\n",
    "                                                     \"Average Purchase Price\",\n",
    "                                                     \"Total Purchase Value\",\n",
    "                                                     \"Avg Total Purchase per Person\"]]\n",
    "\n",
    "# DF Formatting\n",
    "pymoliPurchasingAnalysis[\"Average Purchase Price\"] = pymoliPurchasingAnalysis[\"Average Purchase Price\"].map(\"${:.2f}\".format)\n",
    "pymoliPurchasingAnalysis[\"Total Purchase Value\"] = pymoliPurchasingAnalysis[\"Total Purchase Value\"].map(\"${:.2f}\".format)\n",
    "pymoliPurchasingAnalysis[\"Avg Total Purchase per Person\"] = pymoliPurchasingAnalysis[\"Avg Total Purchase per Person\"].map(\"${:.2f}\".format)\n",
    "\n",
    "pymoliPurchasingAnalysis"
   ]
  },
  {
   "cell_type": "markdown",
   "metadata": {},
   "source": [
    "## Top Spenders"
   ]
  },
  {
   "cell_type": "markdown",
   "metadata": {},
   "source": [
    "* Run basic calculations to obtain the results in the table below\n",
    "\n",
    "\n",
    "* Create a summary data frame to hold the results\n",
    "\n",
    "\n",
    "* Sort the total purchase value column in descending order\n",
    "\n",
    "\n",
    "* Optional: give the displayed data cleaner formatting\n",
    "\n",
    "\n",
    "* Display a preview of the summary data frame\n",
    "\n"
   ]
  },
  {
   "cell_type": "code",
   "execution_count": null,
   "metadata": {},
   "outputs": [],
   "source": [
    "# Group by SN\n",
    "pymoliSN = pymoliPurchaseData.groupby (['SN'])\n",
    "\n",
    "# Sum of price\n",
    "pymoliSNtotalPurchase = pymoliSN[\"Price\"].sum()\n",
    "\n",
    "# Purchase count\n",
    "pymoliSNpurchaseCount = pymoliSN[\"SN\"].count()\n",
    "\n",
    "# Price avg\n",
    "pymoliSNavgPurchase = pymoliSN[\"Price\"].mean()\n",
    "\n",
    "# Create DataFrame\n",
    "topSpenderData = pd.DataFrame({\"Purchase Count\": pymoliSNpurchaseCount,\n",
    "                              \"Average Purchase Price\": pymoliSNavgPurchase,\n",
    "                              \"Total Purchase Value\": pymoliSNtotalPurchase})\n",
    "\n",
    "# Narrow down to top 5\n",
    "topSpenderSummary = pd.DataFrame(topSpenderData.nlargest(5,'Total Purchase Value'))\n",
    "\n",
    "# Reorder columns just in case. It doesn't appear to alphabetize the columns when we form our pd.DataFrame\n",
    "topSpenderSummary = topSpenderSummary[[\"Purchase Count\",\"Average Purchase Price\",\"Total Purchase Value\"]]\n",
    "\n",
    "# Use Map to format all the columns\n",
    "topSpenderSummary[\"Average Purchase Price\"] = topSpenderSummary[\"Average Purchase Price\"].map(\"${:.2f}\".format)\n",
    "topSpenderSummary[\"Total Purchase Value\"] = topSpenderSummary[\"Total Purchase Value\"].map(\"${:.2f}\".format)\n",
    "\n",
    "topSpenderSummary"
   ]
  },
  {
   "cell_type": "markdown",
   "metadata": {},
   "source": [
    "## Most Popular Items"
   ]
  },
  {
   "cell_type": "markdown",
   "metadata": {},
   "source": [
    "* Retrieve the Item ID, Item Name, and Item Price columns\n",
    "\n",
    "\n",
    "* Group by Item ID and Item Name. Perform calculations to obtain purchase count, item price, and total purchase value\n",
    "\n",
    "\n",
    "* Create a summary data frame to hold the results\n",
    "\n",
    "\n",
    "* Sort the purchase count column in descending order\n",
    "\n",
    "\n",
    "* Optional: give the displayed data cleaner formatting\n",
    "\n",
    "\n",
    "* Display a preview of the summary data frame\n",
    "\n"
   ]
  },
  {
   "cell_type": "code",
   "execution_count": null,
   "metadata": {},
   "outputs": [],
   "source": [
    "# Group by Item ID and Item Name\n",
    "pymoliItems = pymoliPurchaseData.groupby (['Item ID','Item Name'])\n",
    "\n",
    "# Get the item price\n",
    "\n",
    "pymoliItemPrice = pymoliItems[\"Price\"].sum()/pymoliItems[\"Item ID\"].count()\n",
    "\n",
    "# Get purchase counts\n",
    "pymoliItemCount = pymoliItems[\"Item ID\"].count()\n",
    "\n",
    "# Get price sum\n",
    "pymoliPopSum = pymoliItems[\"Price\"].sum()\n",
    "\n",
    "# Create DataFrame\n",
    "pymoliItemDF=pd.DataFrame({\"Purchase Count\":pymoliItemCount,\n",
    "                        \"Total Purchase Value\":pymoliPopSum,\n",
    "                        \"Item Price\":pymoliItemPrice})\n",
    "\n",
    "# Create a new DataFrame for the top 5 purchase counts using DataFrame data above\n",
    "pymoliItemSummary = pd.DataFrame(pymoliItemDF.nlargest(5,'Purchase Count'))\n",
    "pymoliTop5Items = pymoliItemSummary[[\"Purchase Count\",\"Item Price\",\"Total Purchase Value\"]]\n",
    "\n",
    "# DF Formatting\n",
    "pymoliTop5Items [\"Total Purchase Value\"] = pymoliTop5Items [\"Total Purchase Value\"].map(\"${:.2f}\".format)\n",
    "pymoliTop5Items [\"Item Price\"] = pymoliTop5Items [\"Item Price\"].map(\"${:.2f}\".format)\n",
    "\n",
    "# Display table\n",
    "pymoliTop5Items"
   ]
  },
  {
   "cell_type": "markdown",
   "metadata": {},
   "source": [
    "## Most Profitable Items"
   ]
  },
  {
   "cell_type": "markdown",
   "metadata": {},
   "source": [
    "* Sort the above table by total purchase value in descending order\n",
    "\n",
    "\n",
    "* Optional: give the displayed data cleaner formatting\n",
    "\n",
    "\n",
    "* Display a preview of the data frame\n",
    "\n"
   ]
  },
  {
   "cell_type": "code",
   "execution_count": null,
   "metadata": {
    "scrolled": true
   },
   "outputs": [],
   "source": [
    "# Create a top 5 of Total Purchase Value from pymoliItemDF above\n",
    "pymoliProfitSummary = pd.DataFrame(pymoliItemDF.nlargest(5,'Total Purchase Value'))\n",
    "pymoliTopProfitable = pymoliProfitSummary[[\"Purchase Count\",\"Item Price\",\"Total Purchase Value\"]]\n",
    "\n",
    "# DF Formatting\n",
    "pymoliTopProfitable [\"Total Purchase Value\"] = pymoliTopProfitable [\"Total Purchase Value\"].map(\"${:.2f}\".format)\n",
    "pymoliTopProfitable [\"Item Price\"] = pymoliTopProfitable [\"Item Price\"].map(\"${:.2f}\".format)\n",
    "\n",
    "# Display table\n",
    "pymoliTopProfitable"
   ]
  },
  {
   "cell_type": "code",
   "execution_count": null,
   "metadata": {},
   "outputs": [],
   "source": []
  },
  {
   "cell_type": "code",
   "execution_count": null,
   "metadata": {},
   "outputs": [],
   "source": []
  }
 ],
 "metadata": {
  "anaconda-cloud": {},
  "kernel_info": {
   "name": "python3"
  },
  "kernelspec": {
   "display_name": "Python 3",
   "language": "python",
   "name": "python3"
  },
  "language_info": {
   "codemirror_mode": {
    "name": "ipython",
    "version": 3
   },
   "file_extension": ".py",
   "mimetype": "text/x-python",
   "name": "python",
   "nbconvert_exporter": "python",
   "pygments_lexer": "ipython3",
   "version": "3.7.4"
  },
  "latex_envs": {
   "LaTeX_envs_menu_present": true,
   "autoclose": false,
   "autocomplete": true,
   "bibliofile": "biblio.bib",
   "cite_by": "apalike",
   "current_citInitial": 1,
   "eqLabelWithNumbers": true,
   "eqNumInitial": 1,
   "hotkeys": {
    "equation": "Ctrl-E",
    "itemize": "Ctrl-I"
   },
   "labels_anchors": false,
   "latex_user_defs": false,
   "report_style_numbering": false,
   "user_envs_cfg": false
  },
  "nteract": {
   "version": "0.2.0"
  }
 },
 "nbformat": 4,
 "nbformat_minor": 2
}
